{
 "cells": [
  {
   "cell_type": "code",
   "execution_count": 6,
   "id": "1c3baf87",
   "metadata": {},
   "outputs": [
    {
     "name": "stderr",
     "output_type": "stream",
     "text": [
      "25/04/16 20:19:56 WARN SparkSession: Using an existing Spark session; only runtime SQL configurations will take effect.\n"
     ]
    },
    {
     "name": "stdout",
     "output_type": "stream",
     "text": [
      "数据字段及类型：\n",
      "root\n",
      " |-- id: long (nullable = true)\n",
      " |-- last_login: string (nullable = true)\n",
      " |-- user_name: string (nullable = true)\n",
      " |-- fullname: string (nullable = true)\n",
      " |-- email: string (nullable = true)\n",
      " |-- age: long (nullable = true)\n",
      " |-- income: double (nullable = true)\n",
      " |-- gender: string (nullable = true)\n",
      " |-- country: string (nullable = true)\n",
      " |-- address: string (nullable = true)\n",
      " |-- purchase_history: string (nullable = true)\n",
      " |-- is_active: boolean (nullable = true)\n",
      " |-- registration_date: string (nullable = true)\n",
      " |-- phone_number: string (nullable = true)\n",
      " |-- login_history: string (nullable = true)\n",
      "\n",
      "样本数据展示：\n"
     ]
    },
    {
     "name": "stderr",
     "output_type": "stream",
     "text": [
      "                                                                                \r"
     ]
    },
    {
     "name": "stdout",
     "output_type": "stream",
     "text": [
      "+---+--------------------+----------+--------+--------------------+---+---------+------+--------+-------------------------+--------------------+---------+-----------------+-----------------+--------------------+\n",
      "| id|          last_login| user_name|fullname|               email|age|   income|gender| country|                  address|    purchase_history|is_active|registration_date|     phone_number|       login_history|\n",
      "+---+--------------------+----------+--------+--------------------+---+---------+------+--------+-------------------------+--------------------+---------+-----------------+-----------------+--------------------+\n",
      "|  0|2024-12-02T03:49:...|RKWKCXRZFV|  瞿紫玉|kuegujsk@hotmail.com| 82|366311.83|    女|    美国|     Non-Chinese Addre...|{\"avg_price\":9496...|    false|       2024-10-31|+1 (804) 855-6279|{\"avg_session_dur...|\n",
      "|  1|2024-08-25T05:39:...|    RCLELJ|  李泽宸|    wslfszer@126.com| 71| 833917.3|    男|    英国|    上海市淄博山水路360号|{\"avg_price\":3014...|     true|       2023-01-13|  +44 1850 116429|{\"avg_session_dur...|\n",
      "|  2|2023-12-21T14:28:...|     KSHSK|  詹紫玥|    gputsgbf@126.com| 54|839379.17|    女|澳大利亚|北京市东莞保健中心路614号|{\"avg_price\":8921...|     true|       2022-07-06|  +61 656 440 523|{\"avg_session_dur...|\n",
      "|  3|2023-06-06T03:21:...|  CCJMXPJA|  姜小红|akidhwzo@outlook.com| 18|383963.16|    男|    巴西|山东省株洲配送中心路176号|{\"avg_price\":939,...|    false|       2020-03-20|+55 54 34995-1600|{\"avg_session_dur...|\n",
      "|  4|2024-10-08T11:02:...|   TJRJDNO|  童泽楠|     suupywzi@qq.com| 77|337059.32|    男|    英国|    浙江省赤峰安康路957号|{\"avg_price\":959,...|    false|       2023-01-05|  +44 5383 067377|{\"avg_session_dur...|\n",
      "+---+--------------------+----------+--------+--------------------+---+---------+------+--------+-------------------------+--------------------+---------+-----------------+-----------------+--------------------+\n",
      "only showing top 5 rows\n",
      "\n"
     ]
    },
    {
     "name": "stderr",
     "output_type": "stream",
     "text": [
      "25/04/16 20:19:58 WARN SparkStringUtils: Truncated the string representation of a plan since it was too large. This behavior can be adjusted by setting 'spark.sql.debug.maxToStringFields'.\n",
      "[Stage 11:=======================================================>(83 + 1) / 84]\r"
     ]
    },
    {
     "name": "stdout",
     "output_type": "stream",
     "text": [
      "+-------+--------------------+--------------------+----------+--------+------------------+------------------+------------------+--------+--------+---------------------------+--------------------+-----------------+-----------------+--------------------+\n",
      "|summary|                  id|          last_login| user_name|fullname|             email|               age|            income|  gender| country|                    address|    purchase_history|registration_date|     phone_number|       login_history|\n",
      "+-------+--------------------+--------------------+----------+--------+------------------+------------------+------------------+--------+--------+---------------------------+--------------------+-----------------+-----------------+--------------------+\n",
      "|  count|            45000000|            45000000|  45000000|45000000|          45000000|          45000000|          45000000|45000000|45000000|                   45000000|            45000000|         45000000|         45000000|            45000000|\n",
      "|   mean|        2.24999995E7|                NULL|      NULL|    NULL|              NULL| 58.99862082222222|499997.10365000076|    NULL|    NULL|                       NULL|                NULL|             NULL|             NULL|                NULL|\n",
      "| stddev|1.2990381201104145E7|                NULL|      NULL|    NULL|              NULL|23.958328603086162| 288693.0594189479|    NULL|    NULL|                       NULL|                NULL|             NULL|             NULL|                NULL|\n",
      "|    min|                   0|2023-01-01T00:00:...|     AAAAA|    丁一|aaaaagmb@gmail.com|                18|              0.01|    其他|    中国|       Non-Chinese Addre...|{\"avg_price\":10,\"...|       2020-01-01|+1 (000) 000-5827|{\"avg_session_dur...|\n",
      "|    max|            44999999|2025-04-02T00:00:...|ZZZZZYTLXY|    龚鹏|  zzzzzwct@163.com|               100|         999999.99|      男|    英国|黑龙江省齐齐哈尔黄河路970号|{\"avg_price\":9999...|       2025-03-24|  +91 99999 99629|{\"avg_session_dur...|\n",
      "+-------+--------------------+--------------------+----------+--------+------------------+------------------+------------------+--------+--------+---------------------------+--------------------+-----------------+-----------------+--------------------+\n",
      "\n"
     ]
    },
    {
     "name": "stderr",
     "output_type": "stream",
     "text": [
      "                                                                                \r"
     ]
    }
   ],
   "source": [
    "#查看数据概览\n",
    "from pyspark.sql import SparkSession\n",
    "import matplotlib.pyplot as plt\n",
    "import seaborn as sns\n",
    "import os\n",
    "import pandas as pd\n",
    "# 显式设置Java路径\n",
    "os.environ[\"JAVA_HOME\"] = \"/usr/lib/jvm/java-11-openjdk-amd64\"\n",
    "\n",
    "# 初始化Spark会话\n",
    "spark = SparkSession.builder \\\n",
    "    .appName(\"UserBehaviorAnalysis\") \\\n",
    "    .config(\"spark.driver.memory\", \"8g\") \\\n",
    "    .getOrCreate()\n",
    "\n",
    "# 读取1G_data数据（示例路径，需根据实际路径调整）\n",
    "df_1g = spark.read.parquet(\"/lc05/ruandandan/datacourse/datamining/10G_data_new/*.parquet\")\n",
    "df_1g.createOrReplaceTempView(\"user_behavior\")\n",
    "\n",
    "# 查看数据概览\n",
    "print(\"数据字段及类型：\")\n",
    "df_1g.printSchema()\n",
    "\n",
    "print(\"样本数据展示：\")\n",
    "df_1g.show(5)\n",
    "\n",
    "# 基本统计信息\n",
    "df_1g.describe().show()\n"
   ]
  },
  {
   "cell_type": "code",
   "execution_count": null,
   "id": "17769f03",
   "metadata": {},
   "outputs": [
    {
     "name": "stderr",
     "output_type": "stream",
     "text": [
      "25/04/16 16:23:23 WARN SparkSession: Using an existing Spark session; only runtime SQL configurations will take effect.\n"
     ]
    },
    {
     "name": "stdout",
     "output_type": "stream",
     "text": [
      "+---+--------------------+----------+------------+--------------------+---+--------+------+-------+---------------------------------+--------------------+---------+-----------------+------------+------------+\n",
      "| id|           timestamp| user_name|chinese_name|               email|age|  income|gender|country|                  chinese_address|    purchase_history|is_active|registration_date|credit_score|phone_number|\n",
      "+---+--------------------+----------+------------+--------------------+---+--------+------+-------+---------------------------------+--------------------+---------+-----------------+------------+------------+\n",
      "|  1|2025-01-09T01:38:...|   UZPFPZJ|        彭敏|     xtnlkqsb@qq.com| 36| 73000.0|    女| 俄罗斯|广西壮族自治区绍兴和谐路152号2...|{\"average_price\":...|    false|       2024-10-02|         423|918-668-7857|\n",
      "|  2|2023-07-08T22:53:...|     UEHSG|        高杰|rkpktrqz@outlook.com| 58|223000.0|    女|   巴西| 黑龙江省大连建设路127号1单元1835|{\"average_price\":...|    false|       2021-03-19|         567|205-503-3300|\n",
      "|  3|2023-12-31T20:00:...|  fxuujvnk|      姜子轩|vwnquvla@outlook.com| 88|858000.0|    男|   美国|    浙江省厦门繁荣路15号5单元1442|{\"average_price\":...|    false|       2022-05-07|         767|673-105-7503|\n",
      "|  4|2023-03-22T11:12:...|    DDERCI|        梁云|     jpajekzz@qq.com| 61|485000.0|    男|   德国|    四川省宁波上海路30号6单元2134|{\"average_price\":...|    false|       2020-07-08|         587|387-482-7104|\n",
      "|  5|2024-08-10T11:43:...|RTABMQKQLG|        钱俊|    haqlhpmb@163.com| 33|437000.0|    男|   中国|    四川省成都康乐路181号6单元391|{\"average_price\":...|    false|       2023-10-12|         404|602-478-3001|\n",
      "+---+--------------------+----------+------------+--------------------+---+--------+------+-------+---------------------------------+--------------------+---------+-----------------+------------+------------+\n",
      "only showing top 5 rows\n",
      "\n"
     ]
    }
   ],
   "source": [
    "from pyspark.sql import SparkSession\n",
    "import matplotlib.pyplot as plt\n",
    "import seaborn as sns\n",
    "import os\n",
    "import pandas as pd\n",
    "# 显式设置Java路径\n",
    "os.environ[\"JAVA_HOME\"] = \"/usr/lib/jvm/java-11-openjdk-amd64\"\n",
    "\n",
    "# 初始化Spark会话\n",
    "spark = SparkSession.builder \\\n",
    "    .appName(\"UserBehavior\") \\\n",
    "    .config(\"spark.driver.memory\", \"8g\") \\\n",
    "    .getOrCreate()\n",
    "\n",
    "\n",
    "single_file_df = spark.read.parquet(\"/lc05/ruandandan/datacourse/1G_data/part-00000.parquet\")\n",
    "single_file_df.show(5)"
   ]
  },
  {
   "cell_type": "code",
   "execution_count": 3,
   "id": "a77c65af",
   "metadata": {},
   "outputs": [
    {
     "name": "stdout",
     "output_type": "stream",
     "text": [
      "PySpark原生显示（禁用截断）：\n",
      "-RECORD 0-------------------------------------------------------------------------------------------------------------------------------------------------------------------------------------------------------------------------------------------------------------------------------------------------------------------------------------------------------------------------------------------------------------------------------------------------------------------------------------\n",
      " id                | 0                                                                                                                                                                                                                                                                                                                                                                                                                                                                        \n",
      " last_login        | 2024-12-02T03:49:12+00:00                                                                                                                                                                                                                                                                                                                                                                                                                                                \n",
      " user_name         | RKWKCXRZFV                                                                                                                                                                                                                                                                                                                                                                                                                                                               \n",
      " fullname          | 瞿紫玉                                                                                                                                                                                                                                                                                                                                                                                                                                                                   \n",
      " email             | kuegujsk@hotmail.com                                                                                                                                                                                                                                                                                                                                                                                                                                                     \n",
      " age               | 82                                                                                                                                                                                                                                                                                                                                                                                                                                                                       \n",
      " income            | 366311.83                                                                                                                                                                                                                                                                                                                                                                                                                                                                \n",
      " gender            | 女                                                                                                                                                                                                                                                                                                                                                                                                                                                                       \n",
      " country           | 美国                                                                                                                                                                                                                                                                                                                                                                                                                                                                     \n",
      " address           | Non-Chinese Address Placeholder                                                                                                                                                                                                                                                                                                                                                                                                                                          \n",
      " purchase_history  | {\"avg_price\":9496,\"categories\":\"零食\",\"items\":[{\"id\":7265}],\"payment_method\":\"现金\",\"payment_status\":\"已支付\",\"purchase_date\":\"2023-07-30\"}                                                                                                                                                                                                                                                                                                                              \n",
      " is_active         | false                                                                                                                                                                                                                                                                                                                                                                                                                                                                    \n",
      " registration_date | 2024-10-31                                                                                                                                                                                                                                                                                                                                                                                                                                                               \n",
      " phone_number      | +1 (804) 855-6279                                                                                                                                                                                                                                                                                                                                                                                                                                                        \n",
      " login_history     | {\"avg_session_duration\":105,\"devices\":[\"desktop\",\"mobile\"],\"first_login\":\"2024-12-04\",\"locations\":[\"home\",\"travel\"],\"login_count\":73,\"timestamps\":[\"2024-12-04 21:29:00\",\"2024-12-12 20:51:00\",\"2024-12-20 19:00:00\",\"2024-12-28 10:58:00\",\"2025-01-05 06:58:00\",\"2025-01-13 21:55:00\",\"2025-01-21 18:03:00\",\"2025-01-29 18:26:00\",\"2025-02-06 19:31:00\",\"2025-02-14 11:15:00\",\"2025-02-22 06:41:00\",\"2025-03-02 10:10:00\",\"2025-03-10 20:17:00\",\"2025-03-18 20:19:00\"]} \n",
      "-RECORD 1-------------------------------------------------------------------------------------------------------------------------------------------------------------------------------------------------------------------------------------------------------------------------------------------------------------------------------------------------------------------------------------------------------------------------------------------------------------------------------------\n",
      " id                | 1                                                                                                                                                                                                                                                                                                                                                                                                                                                                        \n",
      " last_login        | 2024-08-25T05:39:16+00:00                                                                                                                                                                                                                                                                                                                                                                                                                                                \n",
      " user_name         | RCLELJ                                                                                                                                                                                                                                                                                                                                                                                                                                                                   \n",
      " fullname          | 李泽宸                                                                                                                                                                                                                                                                                                                                                                                                                                                                   \n",
      " email             | wslfszer@126.com                                                                                                                                                                                                                                                                                                                                                                                                                                                         \n",
      " age               | 71                                                                                                                                                                                                                                                                                                                                                                                                                                                                       \n",
      " income            | 833917.3                                                                                                                                                                                                                                                                                                                                                                                                                                                                 \n",
      " gender            | 男                                                                                                                                                                                                                                                                                                                                                                                                                                                                       \n",
      " country           | 英国                                                                                                                                                                                                                                                                                                                                                                                                                                                                     \n",
      " address           | 上海市淄博山水路360号                                                                                                                                                                                                                                                                                                                                                                                                                                                    \n",
      " purchase_history  | {\"avg_price\":3014,\"categories\":\"手套\",\"items\":[{\"id\":5245}],\"payment_method\":\"信用卡\",\"payment_status\":\"已退款\",\"purchase_date\":\"2024-02-27\"}                                                                                                                                                                                                                                                                                                                            \n",
      " is_active         | true                                                                                                                                                                                                                                                                                                                                                                                                                                                                     \n",
      " registration_date | 2023-01-13                                                                                                                                                                                                                                                                                                                                                                                                                                                               \n",
      " phone_number      | +44 1850 116429                                                                                                                                                                                                                                                                                                                                                                                                                                                          \n",
      " login_history     | {\"avg_session_duration\":64,\"devices\":[\"mobile\",\"tablet\"],\"first_login\":\"2024-11-19\",\"locations\":[\"work\"],\"login_count\":7,\"timestamps\":[\"2024-11-19 12:17:00\",\"2024-11-19 13:38:00\",\"2024-11-19 16:04:00\",\"2024-11-19 16:32:00\",\"2024-11-19 17:58:00\"]}                                                                                                                                                                                                                   \n",
      "only showing top 2 rows\n",
      "\n",
      "\n",
      "转换为Pandas表格显示：\n",
      " id                last_login  user_name fullname                email  age    income gender country                         address                                                                                                                      purchase_history  is_active registration_date      phone_number                                                                                                                                                                                                                                                                                                                                                                                                                                                            login_history\n",
      "  0 2024-12-02T03:49:12+00:00 RKWKCXRZFV      瞿紫玉 kuegujsk@hotmail.com   82 366311.83      女      美国 Non-Chinese Address Placeholder  {\"avg_price\":9496,\"categories\":\"零食\",\"items\":[{\"id\":7265}],\"payment_method\":\"现金\",\"payment_status\":\"已支付\",\"purchase_date\":\"2023-07-30\"}      False        2024-10-31 +1 (804) 855-6279 {\"avg_session_duration\":105,\"devices\":[\"desktop\",\"mobile\"],\"first_login\":\"2024-12-04\",\"locations\":[\"home\",\"travel\"],\"login_count\":73,\"timestamps\":[\"2024-12-04 21:29:00\",\"2024-12-12 20:51:00\",\"2024-12-20 19:00:00\",\"2024-12-28 10:58:00\",\"2025-01-05 06:58:00\",\"2025-01-13 21:55:00\",\"2025-01-21 18:03:00\",\"2025-01-29 18:26:00\",\"2025-02-06 19:31:00\",\"2025-02-14 11:15:00\",\"2025-02-22 06:41:00\",\"2025-03-02 10:10:00\",\"2025-03-10 20:17:00\",\"2025-03-18 20:19:00\"]}\n",
      "  1 2024-08-25T05:39:16+00:00     RCLELJ      李泽宸     wslfszer@126.com   71 833917.30      男      英国                    上海市淄博山水路360号 {\"avg_price\":3014,\"categories\":\"手套\",\"items\":[{\"id\":5245}],\"payment_method\":\"信用卡\",\"payment_status\":\"已退款\",\"purchase_date\":\"2024-02-27\"}       True        2023-01-13   +44 1850 116429                                                                                                                                                                                                                   {\"avg_session_duration\":64,\"devices\":[\"mobile\",\"tablet\"],\"first_login\":\"2024-11-19\",\"locations\":[\"work\"],\"login_count\":7,\"timestamps\":[\"2024-11-19 12:17:00\",\"2024-11-19 13:38:00\",\"2024-11-19 16:04:00\",\"2024-11-19 16:32:00\",\"2024-11-19 17:58:00\"]}\n"
     ]
    }
   ],
   "source": [
    "from pyspark.sql import SparkSession\n",
    "import pandas as pd\n",
    "\n",
    "# 初始化Spark会话（复用已有配置）\n",
    "spark = SparkSession.builder \\\n",
    "    .appName(\"ShowSampleData\") \\\n",
    "    .config(\"spark.driver.memory\", \"8g\") \\\n",
    "    .getOrCreate()\n",
    "\n",
    "# 读取数据（路径需与之前一致）\n",
    "df = spark.read.parquet(\"/lc05/ruandandan/datacourse/datamining/10G_data_new/*.parquet\")\n",
    "\n",
    "# 方法1：PySpark原生显示（完整展示所有列）\n",
    "print(\"PySpark原生显示（禁用截断）：\")\n",
    "df.show(2, truncate=False, vertical=True)  # vertical=True 以纵向格式展示\n",
    "\n",
    "# 方法2：转换为Pandas DataFrame增强可读性\n",
    "print(\"\\n转换为Pandas表格显示：\")\n",
    "pdf_sample = df.limit(2).toPandas()\n",
    "\n",
    "# 美化输出格式\n",
    "pd.set_option('display.max_columns', None)  # 显示所有列\n",
    "pd.set_option('display.max_colwidth', 40)  # 设置列宽\n",
    "pd.set_option('display.expand_frame_repr', False)  # 禁止自动换行\n",
    "\n",
    "print(pdf_sample.to_string(index=False))  # 不显示行索引"
   ]
  },
  {
   "cell_type": "code",
   "execution_count": 5,
   "id": "3213a755",
   "metadata": {},
   "outputs": [
    {
     "name": "stdout",
     "output_type": "stream",
     "text": [
      "PySpark原生显示（禁用截断）：\n",
      "-RECORD 0--------------------------------------------------------------------------------------------------------------------------------------------------\n",
      " id                | 105                                                                                                                                   \n",
      " timestamp         | 2023-01-06T00:57:22+00:00                                                                                                             \n",
      " user_name         | KWSQTJ                                                                                                                                \n",
      " chinese_name      | 唐秀兰                                                                                                                                \n",
      " email             | pcnkpcpv@outlook.com                                                                                                                  \n",
      " age               | 24                                                                                                                                    \n",
      " income            | 313000.0                                                                                                                              \n",
      " gender            | 男                                                                                                                                    \n",
      " country           | 日本                                                                                                                                  \n",
      " chinese_address   | 福建省西安安宁路199号3单元376                                                                                                         \n",
      " purchase_history  | {\"average_price\":307.99,\"category\":\"书籍\",\"items\":[{\"id\":200}]}                                                                       \n",
      " is_active         | false                                                                                                                                 \n",
      " registration_date | 2020-01-12                                                                                                                            \n",
      " credit_score      | 344                                                                                                                                   \n",
      " phone_number      | 380-256-5882                                                                                                                          \n",
      "-RECORD 1--------------------------------------------------------------------------------------------------------------------------------------------------\n",
      " id                | 318                                                                                                                                   \n",
      " timestamp         | 2025-03-18T09:54:52+00:00                                                                                                             \n",
      " user_name         | oglyh                                                                                                                                 \n",
      " chinese_name      | 赵嘉                                                                                                                                  \n",
      " email             | umliztqc@hotmail.com                                                                                                                  \n",
      " age               | 82                                                                                                                                    \n",
      " income            | 804000.0                                                                                                                              \n",
      " gender            | 男                                                                                                                                    \n",
      " country           | 印度                                                                                                                                  \n",
      " chinese_address   | 海南省大连长江路183号7单元812                                                                                                         \n",
      " purchase_history  | {\"average_price\":212.95,\"category\":\"电子产品\",\"items\":[{\"id\":366},{\"id\":909},{\"id\":879},{\"id\":375},{\"id\":374},{\"id\":326},{\"id\":493}]} \n",
      " is_active         | false                                                                                                                                 \n",
      " registration_date | 2025-03-11                                                                                                                            \n",
      " credit_score      | 727                                                                                                                                   \n",
      " phone_number      | 873-210-6185                                                                                                                          \n",
      "only showing top 2 rows\n",
      "\n",
      "\n",
      "转换为Pandas表格显示：\n",
      " id                 timestamp user_name chinese_name                email  age   income gender country    chinese_address                                                                                                                  purchase_history  is_active registration_date  credit_score phone_number\n",
      "105 2023-01-06T00:57:22+00:00    KWSQTJ          唐秀兰 pcnkpcpv@outlook.com   24 313000.0      男      日本 福建省西安安宁路199号3单元376                                                                     {\"average_price\":307.99,\"category\":\"书籍\",\"items\":[{\"id\":200}]}      False        2020-01-12           344 380-256-5882\n",
      "318 2025-03-18T09:54:52+00:00     oglyh           赵嘉 umliztqc@hotmail.com   82 804000.0      男      印度 海南省大连长江路183号7单元812 {\"average_price\":212.95,\"category\":\"电子产品\",\"items\":[{\"id\":366},{\"id\":909},{\"id\":879},{\"id\":375},{\"id\":374},{\"id\":326},{\"id\":493}]}      False        2025-03-11           727 873-210-6185\n"
     ]
    }
   ],
   "source": [
    "from pyspark.sql import SparkSession\n",
    "import pandas as pd\n",
    "\n",
    "# 初始化Spark会话（复用已有配置）\n",
    "spark = SparkSession.builder \\\n",
    "    .appName(\"ShowSampleData\") \\\n",
    "    .config(\"spark.driver.memory\", \"8g\") \\\n",
    "    .getOrCreate()\n",
    "\n",
    "# 读取数据（路径需与之前一致）\n",
    "df = spark.read.parquet(\"/lc05/ruandandan/datacourse/1G_data_dropSame/*.parquet\")\n",
    "\n",
    "# 方法1：PySpark原生显示（完整展示所有列）\n",
    "print(\"PySpark原生显示（禁用截断）：\")\n",
    "df.show(2, truncate=False, vertical=True)  # vertical=True 以纵向格式展示\n",
    "\n",
    "# 方法2：转换为Pandas DataFrame增强可读性\n",
    "print(\"\\n转换为Pandas表格显示：\")\n",
    "pdf_sample = df.limit(2).toPandas()\n",
    "\n",
    "# 美化输出格式\n",
    "pd.set_option('display.max_columns', None)  # 显示所有列\n",
    "pd.set_option('display.max_colwidth', 40)  # 设置列宽\n",
    "pd.set_option('display.expand_frame_repr', False)  # 禁止自动换行\n",
    "\n",
    "print(pdf_sample.to_string(index=False))  # 不显示行索引"
   ]
  }
 ],
 "metadata": {
  "kernelspec": {
   "display_name": "rddpytorch2.3python3.10",
   "language": "python",
   "name": "python3"
  },
  "language_info": {
   "codemirror_mode": {
    "name": "ipython",
    "version": 3
   },
   "file_extension": ".py",
   "mimetype": "text/x-python",
   "name": "python",
   "nbconvert_exporter": "python",
   "pygments_lexer": "ipython3",
   "version": "3.10.16"
  }
 },
 "nbformat": 4,
 "nbformat_minor": 5
}
